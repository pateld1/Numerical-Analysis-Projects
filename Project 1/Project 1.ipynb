{
 "cells": [
  {
   "cell_type": "markdown",
   "metadata": {
    "collapsed": false
   },
   "source": [
    "# Problem: Find the best degree $5$ polynomial that fits the data from the file datafile.npy.\n",
    "\n",
    "Let $$ C(a_0, \\ldots, a_5) = \\sum_{i = 0}^N (y_i - p(x_i))^2 = $$  \n",
    "where $$p(x_i) = a_0 + a_1x_i + a_2x_i^2 + a_3x_i^3 + a_4x_i^4 + a_5x_i^5$$ "
   ]
  },
  {
   "cell_type": "code",
   "execution_count": 2,
   "metadata": {
    "collapsed": false
   },
   "outputs": [
   ],
   "source": [
    "# import modules\n",
    "import numpy as np\n",
    "import matplotlib\n",
    "import matplotlib.pyplot as plt"
   ]
  },
  {
   "cell_type": "code",
   "execution_count": 3,
   "metadata": {
    "collapsed": false
   },
   "outputs": [
   ],
   "source": [
    "%matplotlib inline"
   ]
  },
  {
   "cell_type": "code",
   "execution_count": 4,
   "metadata": {
    "collapsed": false
   },
   "outputs": [
    {
     "data": {
      "image/png": "[encoded data removed]"
     },
     "execution_count": 4,
     "metadata": {
     },
     "output_type": "execute_result"
    }
   ],
   "source": [
    "# load the data:\n",
    "data=np.load('datafile.npy')\n",
    "fig = plt.figure()\n",
    "axes = fig.add_axes([0.1, 0.1, 0.9, 0.7]) \n",
    "axes.scatter(data[:,0],data[:,1],c=\"r\");\n"
   ]
  },
  {
   "cell_type": "code",
   "execution_count": 5,
   "metadata": {
    "collapsed": false
   },
   "outputs": [
   ],
   "source": [
    "def cost_function(x,data):\n",
    "\n",
    "    cost = 0\n",
    "    for j in data:\n",
    "        cost += (j[1] - p(x,j[0]))**2 \n",
    "    return cost"
   ]
  },
  {
   "cell_type": "code",
   "execution_count": 6,
   "metadata": {
    "collapsed": false
   },
   "outputs": [
   ],
   "source": [
    "def p(x,const):\n",
    "\n",
    "    value = 0\n",
    "    for i in range(len(const)):\n",
    "        value += const[i] * x**i\n",
    "    return value\n"
   ]
  },
  {
   "cell_type": "markdown",
   "metadata": {
    "collapsed": false
   },
   "source": [
    "The partial derivatives of $C$ is as follows: $$\\begin{aligned} \\frac{\\partial C}{\\partial a_0} &= \\sum_{i = 0}^N -2(y_i - p(x_i)) \\cdot 1 \\\\ \\frac{\\partial C}{\\partial a_1} &= \\sum_{i = 0}^N -2(y_i - p(x_i)) \\cdot x_i \\\\ \\frac{\\partial C}{\\partial a_2} &= \\sum_{i = 0}^N -2(y_i - p(x_i)) \\cdot x_i^2 \\\\ \\frac{\\partial C}{\\partial a_3} &= \\sum_{i = 0}^N -2(y_i - p(x_i)) \\cdot x_i^3 \\\\ \\frac{\\partial C}{\\partial a_4} &= \\sum_{i = 0}^N -2(y_i - p(x_i)) \\cdot x_i^4 \\\\ \\frac{\\partial C}{\\partial a_5} &= \\sum_{i = 0}^N -2(y_i - p(x_i)) \\cdot x_i^5 \\end{aligned} $$ \n",
    "\n",
    "Or simply $$ \\begin{aligned} \\nabla C &= \\Big( \\frac{\\partial C}{\\partial a_0}, \\frac{\\partial C}{\\partial a_1}, \\frac{\\partial C}{\\partial a_2}, \\frac{\\partial C}{\\partial a_3}, \\frac{\\partial C}{\\partial a_4}, \\frac{\\partial C}{\\partial a_5} \\Big) \\\\ &= \\Big( \\sum_{i = 0}^N -2\\cdot (y_i - p(x_i)), \\sum_{i = 0}^N -2x_i \\cdot (y_i - p(x_i)), \\sum_{i = 0}^N -2x_i^2 \\cdot (y_i - p(x_i)), \\sum_{i = 0}^N -2x_i^3 \\cdot (y_i - p(x_i)), \\sum_{i = 0}^N -2x_i^4 \\cdot (y_i - p(x_i)), \\sum_{i = 0}^N -2x_i^5 \\cdot (y_i - p(x_i)) \\Big) \\end{aligned} $$ \n"
   ]
  },
  {
   "cell_type": "code",
   "execution_count": 7,
   "metadata": {
    "collapsed": false
   },
   "outputs": [
   ],
   "source": [
    "def cost_gradient(constants):\n",
    "    mygrad = np.zeros(len(constants))\n",
    "    for j in range(len(constants)):\n",
    "        summation = 0\n",
    "        for point in data:\n",
    "            summation += (p(point[0],constants)-point[1])*point[0]**j\n",
    "        mygrad[j] = summation\n",
    "    return mygrad"
   ]
  },
  {
   "cell_type": "code",
   "execution_count": 8,
   "metadata": {
    "collapsed": false
   },
   "outputs": [
   ],
   "source": [
    "def norm(vec):\n",
    "\n",
    "    length = 0\n",
    "    for i in range(len(vec)):\n",
    "        length += vec[i]**2\n",
    "    return length**(1.0/2)"
   ]
  },
  {
   "cell_type": "code",
   "execution_count": 9,
   "metadata": {
    "collapsed": false
   },
   "outputs": [
   ],
   "source": [
    "def normalized(vec):\n",
    "\n",
    "    length = norm(vec)\n",
    "    unitVec = np.zeros(len(vec))\n",
    "    for i in range(len(unitVec)):\n",
    "        unitVec[i] = vec[i] / length\n",
    "    return unitVec"
   ]
  },
  {
   "cell_type": "code",
   "execution_count": 10,
   "metadata": {
    "collapsed": false
   },
   "outputs": [
   ],
   "source": [
    "def multSeq(h,vec):\n",
    "\n",
    "    newVec = np.zeros(6)\n",
    "    for i in range(len(newVec)):\n",
    "        newVec[i] = vec[i] * h\n",
    "    return newVec"
   ]
  },
  {
   "cell_type": "code",
   "execution_count": 11,
   "metadata": {
    "collapsed": false
   },
   "outputs": [
   ],
   "source": [
    "#x_old is the list of constants\n",
    "x_old = np.zeros(6)\n",
    "h = 0.01 # step size\n",
    "tolerance = 0.001\n",
    "maxIterations = 5000\n",
    "t = 1\n",
    "x_new = np.zeros(6)"
   ]
  },
  {
   "cell_type": "code",
   "execution_count": 12,
   "metadata": {
    "collapsed": false
   },
   "outputs": [
   ],
   "source": [
    "for i in range(len(x_new)):\n",
    "    x_new[i] = x_old[i] + multSeq(-h,normalized(cost_gradient(x_old)))[i]"
   ]
  },
  {
   "cell_type": "code",
   "execution_count": 13,
   "metadata": {
    "collapsed": false
   },
   "outputs": [
    {
     "name": "stdout",
     "output_type": "stream",
     "text": [
      "[ 0.08032254  0.06458722  0.04706228 -0.06684329 -0.38389691  0.11123817]\n"
     ]
    }
   ],
   "source": [
    "while t < maxIterations and (abs(x_new[0] - x_old[0])+abs(x_new[1] - x_old[1])+abs(x_new[2] - x_old[2])+\n",
    "                            abs(x_new[3] - x_old[3])+abs(x_new[4] - x_old[4])+abs(x_new[5] - x_old[5])\n",
    "                            ) > tolerance:\n",
    "    \n",
    "    for i in range(len(x_new)):\n",
    "        x_old[i] = x_new[i]\n",
    "    for j in range(len(x_new)):\n",
    "        x_new[j] = x_old[j] - multSeq(h, normalized(cost_gradient(x_old)))[j]\n",
    "    t += 1\n",
    "print(x_new)"
   ]
  },
  {
   "cell_type": "code",
   "execution_count": 14,
   "metadata": {
    "collapsed": false
   },
   "outputs": [
    {
     "name": "stdout",
     "output_type": "stream",
     "text": [
      "The best degree 5 polynomial has coefficients: \n",
      "a0: 0.0803225404923\n",
      "a1: 0.0645872156651\n",
      "a2: 0.0470622772964\n",
      "a3: -0.0668432941729\n",
      "a4: -0.383896909967\n",
      "a5: 0.11123817405\n"
     ]
    },
    {
     "data": {
      "image/png": "[encoded data removed]"
     },
     "execution_count": 14,
     "metadata": {
     },
     "output_type": "execute_result"
    }
   ],
   "source": [
    "if i == maxIterations: \n",
    "    print(\"Maximum iteration was reached.\")\n",
    "\n",
    "print(\"The best degree 5 polynomial has coefficients: \")\n",
    "for i in range(len(x_new)):\n",
    "    print(\"a\" + str(i) + \": \" + str(x_new[i]))\n",
    "    \n",
    "x = np.linspace(0,5,1001)\n",
    "y = p(x, x_new)\n",
    "fig = plt.figure()\n",
    "axes = fig.add_axes([0.1, 0.1, 0.9, 0.7])\n",
    "axes.plot(x,y) \n",
    "axes.scatter(data[:,0],data[:,1],c=\"r\");"
   ]
  },
  {
   "cell_type": "code",
   "execution_count": 0,
   "metadata": {
    "collapsed": false
   },
   "outputs": [
   ],
   "source": [
   ]
  },
  {
   "cell_type": "code",
   "execution_count": 0,
   "metadata": {
    "collapsed": false
   },
   "outputs": [
   ],
   "source": [
   ]
  },
  {
   "cell_type": "code",
   "execution_count": 0,
   "metadata": {
    "collapsed": false
   },
   "outputs": [
   ],
   "source": [
   ]
  }
 ],
 "metadata": {
  "kernelspec": {
   "display_name": "Python 2 (SageMath)",
   "language": "python",
   "name": "python2"
  },
  "language_info": {
   "codemirror_mode": {
    "name": "ipython",
    "version": 2
   },
   "file_extension": ".py",
   "mimetype": "text/x-python",
   "name": "python",
   "nbconvert_exporter": "python",
   "pygments_lexer": "ipython2",
   "version": "2.7.14"
  }
 },
 "nbformat": 4,
 "nbformat_minor": 0
}