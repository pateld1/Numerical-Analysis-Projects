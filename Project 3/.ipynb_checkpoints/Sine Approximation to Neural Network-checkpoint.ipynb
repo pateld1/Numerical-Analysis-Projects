{
 "cells": [
  {
   "cell_type": "markdown",
   "metadata": {},
   "source": [
    "# Problem: \n",
    "\n",
    "Use the following neural network topology to approximate the sine function.\n",
    "Here, approximate means minimize the distance between your approximation $u$ and the function $\\sin$ using the norm defined by \n",
    "\n",
    "$$\\| f -g \\| = \\frac{1}{2}\\sum_{i=0}^{99}(f(x_i)-g(x_i))^2$$\n",
    "where $x_0, x_1, \\ldots, x_{99}$ are one hundred points evenly spaced throughout the interval $[0,2\\pi]$.\n",
    "\n",
    " $$ \\begin{aligned} \\nabla(\\frac{1}{2} \\| \\mu(x)-\\sin(x) \\|) =\n",
    " \\langle g,h \\rangle * \\langle\n",
    "&\\theta_{0,0}+x\\theta_{1,0} - \\cos(x), \\theta_{0} - \\cos(x), x\\alpha_{0} - \\cos(x),\\\\ \n",
    " &\\theta_{0,1}+x\\theta_{1,1} - \\cos(x), \\alpha_{1} - \\cos(x), x\\alpha_{1} - \\cos(x), \\\\\n",
    " &\\theta_{0,2}+x\\theta_{1,2} - \\cos(x), \\alpha_{2} - \\cos(x), x\\alpha_{2} - \\cos(x), \\\\\n",
    " &\\theta_{0,3}+x\\theta_{1,3} - \\cos(x), \\alpha_{3} - \\cos(x), x\\alpha_{3} - \\cos(x) \\rangle \\end{aligned} $$"
   ]
  },
  {
   "cell_type": "code",
   "execution_count": 1,
   "metadata": {},
   "outputs": [],
   "source": [
    "import math\n",
    "from sympy import *\n",
    "import numpy as np"
   ]
  },
  {
   "cell_type": "code",
   "execution_count": 2,
   "metadata": {
    "collapsed": true
   },
   "outputs": [],
   "source": [
    "import matplotlib\n",
    "import matplotlib.pyplot as plt"
   ]
  },
  {
   "cell_type": "code",
   "execution_count": 3,
   "metadata": {
    "collapsed": true
   },
   "outputs": [],
   "source": [
    "%matplotlib inline"
   ]
  },
  {
   "cell_type": "markdown",
   "metadata": {},
   "source": [
    "$$C(\\alpha^0,\\alpha^1,\\alpha^2,\\alpha^3,\\theta_0^0,\\theta_0^1,\\theta_0^2,\\theta_0^3,\\theta_1^0,\\theta_1^1,\\theta_1^2,\\theta_1^3,\\theta_2^0,\\theta_2^1,\\theta_2^2,\\theta_2^3) = \\frac{1}{2}\\sum_{x = 0}^{100} (\\mu(x) - \\sin(x))^2 $$\n",
    "$$ \\mu(x) = \\alpha^0 \\sigma(\\theta_0^0 + \\theta_1^0x) + \\alpha^1 \\sigma(\\theta_0^1 + \\theta_1^1x) + \\alpha^2 \\sigma(\\theta_0^2 + \\theta_1^2x) + \\alpha^3 \\sigma(\\theta_0^3 + \\theta_1^3x) $$ \n",
    "where $$\\sigma(x) = \\frac{1}{1 + e^{-x}} $$"
   ]
  },
  {
   "cell_type": "markdown",
   "metadata": {},
   "source": [
    "Partial Derivatives: \n",
    "$$ \\begin{aligned} \n",
    "\\frac{\\partial C}{\\partial \\alpha^0} = (\\mu(x) - \\sin(x))\\sigma(\\theta_0^0 + \\theta_1^0x) ~~~\n",
    "\\frac{\\partial C}{\\partial \\theta_0^0} &= \\frac{\\alpha^0(\\mu(x) - \\sin(x))e^{\\theta_0^0 + x\\theta_1^0}}{(1 + e^{\\theta_0^0 + x\\theta_1^0})^2} ~~~\n",
    "\\frac{\\partial C}{\\partial \\theta_1^0} = \\frac{x\\alpha^0(\\mu(x) - \\sin(x))e^{\\theta_0^0 + x\\theta_1^0}}{(1 + e^{\\theta_0^0 + x\\theta_1^0})^2} \\\\\n",
    "\\frac{\\partial C}{\\partial \\alpha^1} = (\\mu(x) - \\sin(x))\\sigma(\\theta_0^1 + \\theta_1^1x) ~~~\n",
    "\\frac{\\partial C}{\\partial \\theta_0^1} &= \\frac{\\alpha^0(\\mu(x) - \\sin(x))e^{\\theta_0^1 + x\\theta_1^1}}{(1 + e^{\\theta_0^1 + x\\theta_1^1})^2} ~~~\n",
    "\\frac{\\partial C}{\\partial \\theta_1^1} = \\frac{x\\alpha^0(\\mu(x) - \\sin(x))e^{\\theta_0^1 + x\\theta_1^1}}{(1 + e^{\\theta_0^1 + x\\theta_1^1})^2} \\\\\n",
    "\\frac{\\partial C}{\\partial \\alpha^2} = (\\mu(x) - \\sin(x))\\sigma(\\theta_0^2 + \\theta_1^2x) ~~~\n",
    "\\frac{\\partial C}{\\partial \\theta_0^2} &= \\frac{\\alpha^0(\\mu(x) - \\sin(x))e^{\\theta_0^2 + x\\theta_1^2}}{(1 + e^{\\theta_0^2 + x\\theta_1^2})^2} ~~~\n",
    "\\frac{\\partial C}{\\partial \\theta_1^2} = \\frac{x\\alpha^0(\\mu(x) - \\sin(x))e^{\\theta_0^2 + x\\theta_1^2}}{(1 + e^{\\theta_0^2 + x\\theta_1^2})^2} \\\\\n",
    "\\frac{\\partial C}{\\partial \\alpha^3} = (\\mu(x) - \\sin(x))\\sigma(\\theta_0^3 + \\theta_1^3x) ~~~\n",
    "\\frac{\\partial C}{\\partial \\theta_0^3} &= \\frac{\\alpha^0(\\mu(x) - \\sin(x))e^{\\theta_0^3 + x\\theta_1^3}}{(1 + e^{\\theta_0^3 + x\\theta_1^3})^2} ~~~\n",
    "\\frac{\\partial C}{\\partial \\theta_1^3} = \\frac{x\\alpha^0(\\mu(x) - \\sin(x))e^{\\theta_0^3 + x\\theta_1^3}}{(1 + e^{\\theta_0^3 + x\\theta_1^3})^2} \\end{aligned} $$ "
   ]
  },
  {
   "cell_type": "markdown",
   "metadata": {},
   "source": [
    "Let's define two exponential function to tidy up our code: $$ \\text{expOne}(x,y,z) = e^{(y + zx)}$$ $$ \\text{expTwo}(x,y,z) = e^{-(y + zx)} $$\n",
    "Therefore our sigmoid function is: $$ \\sigma(x,y,z) = \\frac{1}{1 + \\text{expTwo}(x,y,z)} $$"
   ]
  },
  {
   "cell_type": "code",
   "execution_count": 4,
   "metadata": {},
   "outputs": [],
   "source": [
    "def expOne(x,y,z):\n",
    "    return (math.exp(y + (z*x)))"
   ]
  },
  {
   "cell_type": "code",
   "execution_count": 5,
   "metadata": {},
   "outputs": [],
   "source": [
    "def expTwo(x,y,z):\n",
    "    return (math.exp(-1 * (y + z*x)))"
   ]
  },
  {
   "cell_type": "code",
   "execution_count": 6,
   "metadata": {},
   "outputs": [],
   "source": [
    "def sigmoid(x,y,z):\n",
    "    return (1 + expTwo(x,y,z))**-1"
   ]
  },
  {
   "cell_type": "markdown",
   "metadata": {},
   "source": [
    "The 12 variables and its gradient will be stored as follows: $$ \\begin{bmatrix} \\alpha^0 & \\alpha^1 & \\alpha^2 & \\alpha^3 \\\\ \\theta_0^0 & \\theta_0^1 & \\theta_0^2 & \\theta_0^3 \\\\ \\theta_1^0 & \\theta_1^1 & \\theta_1^2 & \\theta_1^3 \\end{bmatrix} ~~~ \\begin{bmatrix} \\frac{\\partial C}{\\partial \\alpha^0} & \\frac{\\partial C}{\\partial \\alpha^1} & \\frac{\\partial C}{\\partial \\alpha^2} & \\frac{\\partial C}{\\partial \\alpha^3} \\\\ \\frac{\\partial C}{\\partial \\theta_0^0} & \\frac{\\partial C}{\\partial \\theta_0^1} & \\frac{\\partial C}{\\partial \\theta_0^2} & \\frac{\\partial C}{\\partial \\theta_0^3} \\\\ \\frac{\\partial C}{\\partial \\theta_1^0} & \\frac{\\partial C}{\\partial \\theta_1^1} & \\frac{\\partial C}{\\partial \\theta_1^2} & \\frac{\\partial C}{\\partial \\theta_1^3} \\end{bmatrix} $$ "
   ]
  },
  {
   "cell_type": "code",
   "execution_count": 7,
   "metadata": {},
   "outputs": [],
   "source": [
    "var = np.array([[0.0,0.0,0.0,0.0],[0.0,0.0,0.0,0.0],[0.0,0.0,0.0,0.0]])"
   ]
  },
  {
   "cell_type": "code",
   "execution_count": 8,
   "metadata": {},
   "outputs": [],
   "source": [
    "def mu(x,var_arr):\n",
    "\n",
    "    y = 0\n",
    "    for i in range(4):\n",
    "        y += var_arr[0][i] * sigmoid(x, var_arr[1][i], var_arr[2][i])\n",
    "    return y"
   ]
  },
  {
   "cell_type": "code",
   "execution_count": 9,
   "metadata": {},
   "outputs": [],
   "source": [
    "def gradient(var_arr):\n",
    "\n",
    "    grad_arr = np.zeros((3,4))\n",
    "    interval = np.linspace(0,2*np.pi, 100)\n",
    "\n",
    "    for x in interval:\n",
    "        value = mu(x, var_arr) - np.sin(x)\n",
    "        for i in range(4):\n",
    "            grad_arr[0][i] += (value * sigmoid(x,var_arr[1][i],var_arr[2][i]))\n",
    "            temp = expOne(x,var_arr[1][i],var_arr[2][i])\n",
    "            tempTwo = (value * temp * var_arr[0][i]) / ((1 + temp)**2)\n",
    "            grad_arr[1][i] += tempTwo\n",
    "            grad_arr[2][i] += x * tempTwo\n",
    "\n",
    "    return grad_arr"
   ]
  },
  {
   "cell_type": "code",
   "execution_count": 10,
   "metadata": {},
   "outputs": [],
   "source": [
    "def cost(var_arr):\n",
    "\n",
    "    output = 0.0\n",
    "    interval = np.linspace(0,2*np.pi, 100)\n",
    "\n",
    "    for i in interval:\n",
    "        output += (mu(i,var_arr) - np.sin(i))**2\n",
    "    return 0.5*output"
   ]
  },
  {
   "cell_type": "code",
   "execution_count": 11,
   "metadata": {
    "scrolled": true
   },
   "outputs": [
    {
     "name": "stdout",
     "output_type": "stream",
     "text": [
      "Initial Cost:  152.853831491\n",
      "The initial randomized guesses for the constants of the neural network are: \n",
      "alpha_ 0  =  0.0392138049872\n",
      "alpha_ 1  =  0.935069395134\n",
      "alpha_ 2  =  0.801182370268\n",
      "alpha_ 3  =  0.390018826213\n",
      "theta_0^ 0  =  0.0188524897848\n",
      "theta_0^ 1  =  0.197230919153\n",
      "theta_0^ 2  =  0.634132031231\n",
      "theta_0^ 3  =  0.312030611177\n",
      "theta_1^ 0  =  0.993622193055\n",
      "theta_1^ 1  =  0.0370337938615\n",
      "theta_1^ 2  =  0.296799684981\n",
      "theta_1^ 3  =  0.500139221653\n",
      "Final Cost:  9.58989159705\n",
      "The constants for the neural network are: \n",
      "alpha_ 0  =  -0.799642639001\n",
      "alpha_ 1  =  1.38572323448\n",
      "alpha_ 2  =  0.876066461282\n",
      "alpha_ 3  =  -0.466035521721\n",
      "theta_0^ 0  =  -0.296995959199\n",
      "theta_0^ 1  =  0.849889195078\n",
      "theta_0^ 2  =  0.956045320777\n",
      "theta_0^ 3  =  0.2279725582\n",
      "theta_1^ 0  =  0.310373091075\n",
      "theta_1^ 1  =  -0.451726089816\n",
      "theta_1^ 2  =  -0.484716188143\n",
      "theta_1^ 3  =  0.249518501377\n"
     ]
    }
   ],
   "source": [
    "a_old = np.random.rand(3,4)\n",
    "h = 0.001\n",
    "max_steps = 1000\n",
    "tolerance = 0.0001\n",
    "\n",
    "print(\"Initial Cost: \", cost(a_old))\n",
    "print(\"The initial randomized guesses for the constants of the neural network are: \")\n",
    "for a in range(4):\n",
    "    print(\"alpha_\",a, \" = \", a_old[0][a])\n",
    "for b in range(4):\n",
    "    print(\"theta_0^\",b, \" = \", a_old[1][b])\n",
    "for c in range(4):\n",
    "    print(\"theta_1^\",c, \" = \", a_old[2][c])\n",
    "\n",
    "a_new = a_old - h * gradient(a_old)\n",
    "\n",
    "for i in range(max_steps):\n",
    "    if(cost(a_old) - cost(a_new) <= tolerance):\n",
    "        print(\"Tolerance has been reached.\")\n",
    "        break\n",
    "    if(cost(a_old) < cost(a_new)):\n",
    "        a_new = a_old\n",
    "        break\n",
    "    a_old = a_new\n",
    "    direction = -1 * gradient(a_old)\n",
    "    a_new = a_old + (h * direction)\n",
    "\n",
    "print(\"Final Cost: \", cost(a_new))\n",
    "print(\"The constants for the neural network are: \")\n",
    "for j in range(4):\n",
    "    print(\"alpha_\",j, \" = \", a_new[0][j])\n",
    "for k in range(4):\n",
    "    print(\"theta_0^\",k, \" = \", a_new[1][k])\n",
    "for l in range(4):\n",
    "    print(\"theta_1^\",l, \" = \", a_new[2][l])\n"
   ]
  },
  {
   "cell_type": "code",
   "execution_count": 12,
   "metadata": {},
   "outputs": [],
   "source": [
    "x_0 = np.linspace(0, 2 * np.pi,100)\n",
    "y_0 = []\n",
    "y_1 = []\n",
    "for p in x_0:\n",
    "    y_0.append(mu(p,a_new))\n",
    "    y_1.append(np.sin(p))"
   ]
  },
  {
   "cell_type": "code",
   "execution_count": 13,
   "metadata": {},
   "outputs": [
    {
     "data": {
      "image/png": "[encoded data removed]",
      "text/plain": [
       "<matplotlib.figure.Figure at 0x1143055f8>"
      ]
     },
     "metadata": {},
     "output_type": "display_data"
    }
   ],
   "source": [
    "fig = plt.figure()\n",
    "axes = fig.add_axes([0.1, 0.1, 0.9, 0.7])\n",
    "axes.plot(x_0,y_0,label =\"$\\mu$\",c = \"red\");\n",
    "axes.plot(x_0,y_1, label = \"$\\sin theta  $\", c = \"blue\");\n",
    "axes.legend(loc = 3);"
   ]
  },
  {
   "cell_type": "markdown",
   "metadata": {},
   "source": [
    "A function of 12 variables that are related to each other by a neural network is approximated to the $\\sin$ function here much better than before (a straight line at $y = 0$). The endpoints are not as close to the $\\sin$ function as hoped for but a better algorithm can fix it, perhaps using stochastic gradient descent. If the max steps is changed to $10000$, the function becomes much much closer to the $\\sin$ function, even at the endpoints, but at the expense of time."
   ]
  }
 ],
 "metadata": {
  "kernelspec": {
   "display_name": "Python 3",
   "language": "python",
   "name": "python3"
  },
  "language_info": {
   "codemirror_mode": {
    "name": "ipython",
    "version": 3
   },
   "file_extension": ".py",
   "mimetype": "text/x-python",
   "name": "python",
   "nbconvert_exporter": "python",
   "pygments_lexer": "ipython3",
   "version": "3.6.1"
  }
 },
 "nbformat": 4,
 "nbformat_minor": 1
}
